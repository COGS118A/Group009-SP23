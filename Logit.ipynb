{
  "nbformat": 4,
  "nbformat_minor": 0,
  "metadata": {
    "colab": {
      "provenance": []
    },
    "kernelspec": {
      "name": "python3",
      "display_name": "Python 3"
    },
    "language_info": {
      "name": "python"
    }
  },
  "cells": [
    {
      "cell_type": "markdown",
      "source": [],
      "metadata": {
        "id": "SWy15a4QwvDV"
      }
    },
    {
      "cell_type": "code",
      "execution_count": 26,
      "metadata": {
        "id": "gTVkZ9bRs0av"
      },
      "outputs": [],
      "source": [
        "import pandas as pd\n",
        "from sklearn.model_selection import train_test_split\n",
        "from sklearn.linear_model import LogisticRegression\n",
        "from sklearn.metrics import accuracy_score, classification_report"
      ]
    },
    {
      "cell_type": "code",
      "source": [
        "url = 'https://raw.githubusercontent.com/COGS118A/Group009-SP23/main/clean_data.csv'\n",
        "data = pd.read_csv(url)\n"
      ],
      "metadata": {
        "id": "K6AwGJcYs9Hs"
      },
      "execution_count": 21,
      "outputs": []
    },
    {
      "cell_type": "code",
      "source": [
        "\n",
        "# Ensure data is loaded correctly\n",
        "data = data.dropna()\n",
        "print(data.shape)\n",
        "#print(data.isnull().sum())\n"
      ],
      "metadata": {
        "colab": {
          "base_uri": "https://localhost:8080/"
        },
        "id": "RaAxj6pltuuA",
        "outputId": "c5d7a94d-2108-408a-ba25-c7dc7116f8cf"
      },
      "execution_count": 23,
      "outputs": [
        {
          "output_type": "stream",
          "name": "stdout",
          "text": [
            "(16467, 216)\n"
          ]
        }
      ]
    },
    {
      "cell_type": "code",
      "source": [
        "\n",
        "\n",
        "# Define predictors and labels\n",
        "X = data.drop('good_outcome', axis=1)\n",
        "y = data['good_outcome']\n",
        "\n",
        "# Split the data into train and test sets\n",
        "X_train, X_test, y_train, y_test = train_test_split(X, y, test_size=0.3, random_state=42)\n",
        "\n",
        "# Define the model\n",
        "model = LogisticRegression(max_iter=1000)\n",
        "\n",
        "# Fit the model\n",
        "model.fit(X_train, y_train)\n",
        "\n",
        "# Make predictions\n",
        "y_pred = model.predict(X_test)\n"
      ],
      "metadata": {
        "id": "pO58u2Tl5BAI"
      },
      "execution_count": 27,
      "outputs": []
    },
    {
      "cell_type": "code",
      "source": [
        "# Evaluate the model\n",
        "print(\"Model accuracy: \", accuracy_score(y_test, y_pred, normalize=True), \"\\n\")\n",
        "\n",
        "print(\"Classification report:\")\n",
        "print(classification_report(y_test, y_pred))"
      ],
      "metadata": {
        "colab": {
          "base_uri": "https://localhost:8080/"
        },
        "id": "Du_zp7hI-AWg",
        "outputId": "d691a3f9-dd54-4318-b277-5e48ff895299"
      },
      "execution_count": 30,
      "outputs": [
        {
          "output_type": "stream",
          "name": "stdout",
          "text": [
            "Model Accuracy:  0.8443634891722324 \n",
            "\n",
            "Classification Report:\n",
            "              precision    recall  f1-score   support\n",
            "\n",
            "           0       0.86      0.69      0.77      1828\n",
            "           1       0.84      0.93      0.88      3113\n",
            "\n",
            "    accuracy                           0.84      4941\n",
            "   macro avg       0.85      0.81      0.83      4941\n",
            "weighted avg       0.85      0.84      0.84      4941\n",
            "\n"
          ]
        }
      ]
    }
  ]
}
