{
 "cells": [
  {
   "cell_type": "markdown",
   "metadata": {},
   "source": [
    "# COGS 118A - Project Checkpoint"
   ]
  },
  {
   "cell_type": "markdown",
   "metadata": {},
   "source": [
    "# Names\n",
    "\n",
    "Hopefully your team is at least this good. Obviously you should replace these with your names.\n",
    "\n",
    "- Veeraj Vishnu Sankar\n",
    "- Ezra Lu\n",
    "- Colin Kavanagh\n",
    "- Thais Marie Diane Archaud"
   ]
  },
  {
   "cell_type": "markdown",
   "metadata": {},
   "source": [
    "# Abstract \n",
    "This supervised machine learning project aims to predict good outcomes for cats in shelters using the Animal Shelter Intakes and Outcomes dataset from Long Beach. By good outcome, we mean cats being adopted or returned to their owners. The dataset includes information on primary colors, sex, intake conditions, intake types, reasons for intake, outcome types, outcome subtypes, and indicators for intake and outcome mortality. The data will be utilized to train a classification model that determines whether a cat is likely to have a good outcome while being in the shelter or not. Model performance will be evaluated through metrics such as ROC-AUC and F1 score, using cross-validation and testing on unseen data."
   ]
  },
  {
   "cell_type": "markdown",
   "metadata": {},
   "source": [
    "# Background\n",
    "\n",
    "Cats are not a natural part of the ecosystem as they have been introduced into the ecosystem by humans. Because of this, free-ranging cats can cause serious damage to the ecosystem. Cats are natural predators that have greatly contributed to the extinction of 33 wildlife species worldwide <a name=\"cat_ecosys\"></a>[<sup>[1]</sup>](#cat_ecosys), which is why it is the responsibility of humans to help keep cats off the streets in a humane way. Animal shelters play an important role in rescuing these homeless, free-ranging cats. Every year, around 6.5 million animals enter animal shelters nationwide. Due to lack of resources and funding, it is very challenging to find permanent homes for these cats. Because of this, of the 6.5 million shelter animals that are rescued, approximately 920,000 of them are euthanized with the majority of these euthanasias being performed on cats <a name=\"petstats\"></a>[<sup>[2]</sup>](#petstats). To prevent the further unnecessary deaths of cats, we will analyze what features make cats appealing to adopt in animal shelters in order to help animal shelters increase cat adoptions in the U.S.\n",
    "\n",
    "Although there is no prior work done on the animal shelter to suggest outcomes of specifically shelter cats, there have been classification models done to predict the outcome of shelter animals. We were able to find two people who have created models for animal shelter outcomes. Danielle’s work aimed to predict an animal’s outcome from the shelter based on their breed, color, sex, and age using random forests classifier to predict its outcome. Although her model had an f-1 score of 0.73, her model would incorrectly classify “adoption” as “return to owner” and would misclassify the outcomes of popular breeds as “transfer” or “death” when the true value was “euthanasia” <a name=\"dani\"></a>[<sup>[3]</sup>](#dani). In Mohammad’s work, it also aims to predict the outcomes of animals in animal shelters by using a decision tree classifier <a name=\"mohammad\"></a>[<sup>[4]</sup>](#mohammad). For our project, instead of predicting the outcomes of animals, we will predict the likelihood of a cat facing a good outcome based on their attributes."
   ]
  },
  {
   "cell_type": "markdown",
   "metadata": {},
   "source": [
    "# Problem Statement\n",
    "\n",
    "Shelters often face challenges in assessing the potential outcomes for animals, leading to overcrowding, limited resources, and the risk of euthanasia. By formulating the problem of determining the likelihood of positive outcomes for cats in shelters, we would like to quantifiably measure and improve the efficiency of shelter operations, and enhance the overall well-being and good outcome rates for cats in shelters. This would help animal shelters operate more successfully and efficiently overall by streamlining the adoption process and better allocating resources.\n",
    "\n",
    "We can develop a predictive model based on logistic regression that can help shelter personnel identify cats with a higher likelihood of facing a good outcome in a shelter by training it on historical data from animal shelter intakes and outcomes.\n",
    "\n",
    "This problem can be quantified because it entails foretelling a binary outcome (outcome likelihood) based on quantitative characteristics. Every input used, such as age, gender, breed, health condition, can be represented using a value or a category.\n",
    "\n",
    "This problem can be measured by different metrics : the adoption rate, which is a direct measure of the number of cats adopted over a certain period of time. The length of stay, the return-to-owner and euthanasia rate are also metrics which can be used to define it. These rates are clearly observable using data from shelters and can be used to enhance overall positive outcomes for cats.\n",
    "\n",
    "Because it can be duplicated and happens frequently in animal shelter settings, the issue is reproducible. Over time, new data can be gathered, allowing the model to be continually updated and trained to increase its prediction power."
   ]
  },
  {
   "cell_type": "markdown",
   "metadata": {},
   "source": [
    "# Data\n",
    "\n",
    "Animal Shelter Data — datalongbeach: https://data.longbeach.gov/explore/dataset/animal-shelter-intakes-and-outcomes/table/?disjunctive.animal_type&disjunctive.primary_color&disjunctive.sex&disjunctive.intake_cond&disjunctive.intake_type&disjunctive.reason&disjunctive.outcome_type&disjunctive.outcome_subtype&disjunctive.intake_is_dead&disjunctive.outcome_is_dead&dataChart=eyJxdWVyaWVzIjpbeyJjaGFydHMiOlt7ImFsaWduTW9udGgiOnRydWUsInR5cGUiOiJjb2x1bW4iLCJmdW5jIjoiQ09VTlQiLCJ5QXhpcyI6ImFnZSIsInNjaWVudGlmaWNEaXNwbGF5Ijp0cnVlLCJjb2xvciI6InJhbmdlLWN1c3RvbSIsInBvc2l0aW9uIjoiY2VudGVyIn1dLCJ4QXhpcyI6ImludGFrZV9kYXRlIiwibWF4cG9pbnRzIjpudWxsLCJ0aW1lc2NhbGUiOiJtb250aCIsInNvcnQiOiIiLCJzZXJpZXNCcmVha2Rvd25UaW1lc2NhbGUiOiIiLCJzZXJpZXNCcmVha2Rvd24iOiJpbnRha2VfaXNfZGVhZCIsInN0YWNrZWQiOiJub3JtYWwiLCJjb25maWciOnsiZGF0YXNldCI6ImFuaW1hbC1zaGVsdGVyLWludGFrZXMtYW5kLW91dGNvbWVzIiwib3B0aW9ucyI6eyJkaXNqdW5jdGl2ZS5hbmltYWxfdHlwZSI6dHJ1ZSwiZGlzanVuY3RpdmUucHJpbWFyeV9jb2xvciI6dHJ1ZSwiZGlzanVuY3RpdmUuc2V4Ijp0cnVlLCJkaXNqdW5jdGl2ZS5pbnRha2VfY29uZCI6dHJ1ZSwiZGlzanVuY3RpdmUuaW50YWtlX3R5cGUiOnRydWUsImRpc2p1bmN0aXZlLnJlYXNvbiI6dHJ1ZSwiZGlzanVuY3RpdmUub3V0Y29tZV90eXBlIjp0cnVlLCJkaXNqdW5jdGl2ZS5vdXRjb21lX3N1YnR5cGUiOnRydWUsImRpc2p1bmN0aXZlLmludGFrZV9pc19kZWFkIjp0cnVlLCJkaXNqdW5jdGl2ZS5vdXRjb21lX2lzX2RlYWQiOnRydWV9fX1dLCJkaXNwbGF5TGVnZW5kIjp0cnVlLCJhbGlnbk1vbnRoIjp0cnVlLCJ0aW1lc2NhbGUiOiIifQ%3D%3D\n",
    "\n",
    "For our project, we will be employing a subset of the City of Long Beach's Animal Shelter data. This dataset encompasses a broad array of animal types, including dogs, birds, and wild animals. However, our analysis will be limited to cats, which constitute approximately 50 percent of the total data. We've made this decision due to the sparseness of data points related to other animals in contrast to the number of variables. This disparity would make it challenging to generate accurate or substantial predictions for animal categories outside of \"Cats\".\n",
    "\n",
    "link to CLEAN data: https://github.com/COGS118A/Group009-SP23/blob/main/clean_data.csv\n",
    "\n",
    "Size of dataset: 16,985 observations, 215 “variables” (many variables were one hot encoded)\n",
    "\n",
    "removed \"Animal Type\", \"Animal ID\", \"intake_is_dead\", \"outcome_is_dead\" columns\n",
    "\n",
    "“days in shelter” was calculated by subtracting intake date from outtake date.\n",
    "\n",
    "“date” rows were dropped due to irrelevancy. \n",
    "\n",
    "list defining “good” outcomes was now define: ['ADOPTION', 'FOSTER', 'COMMUNITY CAT', 'FOSTER TO ADOPT', 'RESCUE', 'RETURN TO WILD HABITAT', 'HOMEFIRST', 'RETURN TO OWNER', 'SHELTER, NEUTER, RETURN', 'TRAP, NEUTER, RELEASE']\n",
    "\n",
    "dropped “outcome” strings, now irrelevant\n",
    "\n",
    "dropped “crossing” column (too complex for project)\n",
    "\n",
    "One hot encoded categorical variables, changed from about 15 columns to 215. \n",
    "\n",
    "Critical Variables: Age, Intake type, outcome type and Reason for intake. \n",
    "\n"
   ]
  },
  {
   "cell_type": "markdown",
   "metadata": {},
   "source": [
    "# Proposed Solution\n",
    "\n",
    "In this section, clearly describe a solution to the problem. The solution should be applicable to the project domain and appropriate for the dataset(s) or input(s) given. Provide enough detail (e.g., algorithmic description and/or theoretical properties) to convince us that your solution is applicable. Make sure to describe how the solution will be tested.  \n",
    "\n",
    "If you know details already, describe how (e.g., library used, function calls) you plan to implement the solution in a way that is reproducible.\n",
    "\n",
    "If it is appropriate to the problem statement, describe a benchmark model<a name=\"sota\"></a>[<sup>[3]</sup>](#sotanote) against which your solution will be compared. \n",
    "\n",
    "The primary function of our model will be to use various features (such as primary color, sex, intake conditions, intake types, reasons for intake, outcome types, outcome subtypes, and indications for intake and outcome mortality) to predict a binary outcome: whether a cat is likely to have a good outcome (adoption, return to owner etc) or a bad outcome (euthanasia, transfer etc). The outcomes have various different categories, but can be simplified into a good or bad binary.\n",
    "\n",
    "As for a benchmark model, we will start with a simple logistic regression model given its interpretability and suitability for binary classification tasks. This model will provide a baseline against which we can compare the performance of more complex models. If other models do not significantly outperform the logistic regression model, its simplicity and interpretability might make it the preferred choice.\n",
    "\n",
    "To ensure the model's applicability, we'll preprocess the data by one-hot encoding categorical variables like age, intake type, outcome type, and reason for intake. This conversion of categorical data into a format that can be provided to machine learning algorithms will ensure our model can utilize all available information.\n",
    "\n",
    "The implementation of the solution will be done in Python, using libraries like pandas and numpy  for data manipulation, sklearn for machine learning algorithms, and matplotlib or seaborn for visualizations. Each step will be clearly documented in a Jupyter notebook or google colab.\n"
   ]
  },
  {
   "cell_type": "markdown",
   "metadata": {},
   "source": [
    "# Evaluation Metrics\n",
    "\n",
    "Propose at least one evaluation metric that can be used to quantify the performance of both the benchmark model and the solution model. The evaluation metric(s) you propose should be appropriate given the context of the data, the problem statement, and the intended solution. Describe how the evaluation metric(s) are derived and provide an example of their mathematical representations (if applicable). Complex evaluation metrics should be clearly defined and quantifiable (can be expressed in mathematical or logical terms).\n",
    "\n",
    "The primary evaluation metric we intend to use is the Receiver Operating Characteristic for Area Under the Curve (ROC-AUC, or AUC for short) metric. We decided to go with this metric because it works well with the algorithm that we have decided to use (logistic regression). AUC is appropriate for logit because it allows us to determine how well the model correctly predicts classes. While our project's issue is essential, it isn't as dire as other machine learning projects like cancer testing. Indicating that a cat won't get adopted when it actually will is a pleasant surprise instead of a life-or-death situation. Therefore, we have more leeway regarding classification levels and don't have to worry about the severity of picking something like a false negative over a false positive. ROC AUC compares the false classification rates at all classification thresholds, making it ideal for a model that isn't making high-stakes predictions. It also allows us to change the classification rate without significant concern for the consequences of false predictions. The ROC AUC curve compares the true positive rate (recall) to the false positive rate (1-specificity). We calculate these as follows:\n",
    "\n",
    "$$\\text{Recall} = \\frac{\\text{TP}}{\\text{TP + FN}}$$\n",
    "\n",
    "$$\\text{Specificity} = \\frac{\\text{TN}}{\\text{TN + FP}}$$\n",
    "\n",
    "\n",
    "The greater the area under the curve (AUC), the better the model distinguishes between the two classes. The best possible \"AOC\" would be a value of 1, indicating that the model can perfectly differentiate the two classes. The worst possible \"AOC\" we can have is 0.5, meaning that the model cannot distinguish the two classes and therefore predicts by chance. To plot this curve, we use different classification thresholds and find the TPR and FPR based on those thresholds. We then plot the TPR and FPR on the x and y axes. \n",
    "\n",
    "We also plan to use the F-score metric. The F-score is appropriate for this model because it is another way of indicating its performance concerning the bias-variance tradeoff. The F-score shows a weighted average of the precision and recall scores, giving us a metric that favors a balance between the two. The F-score will be lower if the precision or recall is higher than the other metric. We calculate precision using the following formula:\n",
    "\n",
    "$$\\text{Precision} = \\frac{\\text{TP}}{\\text{TP + FP}}$$\n",
    "\n",
    "The F score is calculated by using the following formula:\n",
    "\n",
    "$$\\text{F-score} = 2 \\times \\frac{\\text{Precision} \\times \\text{Recall}}{\\text{Precision + Recall}}$$"
   ]
  },
  {
   "cell_type": "markdown",
   "metadata": {},
   "source": [
    "# Preliminary results\n",
    "\n",
    "NEW SECTION!\n",
    "\n",
    "Please show any preliminary results you have managed to obtain.\n",
    "\n",
    "Examples would include:\n",
    "- Analyzing the suitability of a dataset or alogrithm for prediction/solving your problem \n",
    "- Performing feature selection or hand-designing features from the raw data. Describe the features available/created and/or show the code for selection/creation\n",
    "- Showing the performance of a base model/hyper-parameter setting.  Solve the task with one \"default\" algorithm and characterize the performance level of that base model.\n",
    "- Learning curves or validation curves for a particular model\n",
    "- Tables/graphs showing the performance of different models/hyper-parameters\n",
    "\n"
   ]
  },
  {
   "cell_type": "markdown",
   "metadata": {},
   "source": [
    "# Ethics & Privacy"
   ]
  },
  {
   "cell_type": "markdown",
   "metadata": {},
   "source": [
    "There should not be many obvious ethical implications since the data collected is not on human subjects. However, there is an issue of privacy with the data as the Long Beach animal shelter has a record of where the cats were taken from. This may be a privacy issue because the addresses of owners who have chosen to surrender their cat are published in the dataset and it is unknown to us if this data was collected with the owners’ permission. This is especially a concern if the cat was taken due to mistreatment and/or abuse as animal abusers can possibly be tracked down and harassed with this data. However, we do not plan on using any locational data in our model so it should not be an issue. \n",
    "\n",
    "Another concern that could possibly arise is due to data bias. Since our model was trained on data from animal shelters in the City of Long Beach, we cannot state that our model will be accurate in different areas of the country. Different areas may look for different qualities in pets. Therefore, shelters that are not represented in our dataset should be advised that this model may not accurately predict the outcomes of cats in their area. \n",
    "\n",
    "There is also the possibility of our model being used to evaluate whether or not a cat is worth taking care of or should be taken for euthanasia. Since animal shelters are always lacking in resources, they will often be making the choice of which animals are to be euthanized. This possibility may be unlikely (but definitely possible) since most animal shelters are non-profit, which means there would be no real motivation to neglect animals based on how likely it is for them to be adopted. Our model also only predicts the likelihood of a positive outcome occurring, not necessarily adoption."
   ]
  },
  {
   "cell_type": "markdown",
   "metadata": {},
   "source": [
    "# Team Expectations "
   ]
  },
  {
   "cell_type": "markdown",
   "metadata": {},
   "source": [
    "\n",
    "* Team members will use Discord as a primary means of communication.\n",
    "* Team members are aware of each other’s schedules through a when2meet form.\n",
    "* Team members are expected to be punctual to meetings and communicate their absences if unforeseen situations arise.\n",
    "* Team Members are expected to read and follow the prescribed deadlines in the Project Timeline Proposal.\n",
    "* Team Members should feel comfortable sharing their issues and expectations of other members.\n"
   ]
  },
  {
   "cell_type": "markdown",
   "metadata": {},
   "source": [
    "# Project Timeline Proposal"
   ]
  },
  {
   "cell_type": "markdown",
   "metadata": {},
   "source": [
    "UPDATE THE PROPOSAL TIMELINE ACCORDING TO WHAT HAS ACTUALLY HAPPENED AND HOW IT HAS EFFECTED YOUR FUTURE PLANS\n",
    "\n",
    "| __Date__    | __Time__ | __Completed before meeting__    | __Discuss at meeting__ |\n",
    "| -------- | ------- |------- |------- |\n",
    "| 5/15 | 8PM | Finding ideas, datasets for the project (All) | Which subject we’re going with, dividing the tasks for the proposal,  draft project proposal |\n",
    "| 5/16 | 5PM | Divide up tasks for Project proposal and complete parts separately | Review/Edit/Talk about our parts and what we need to each change |\n",
    "| 5/17 | Deadline Project Proposal |\n",
    "| 5/19 | 3PM | Import & Wrangle Data (Colin) | Discuss Analysis Plan, split tasks |\n",
    "| 5/23 | 5PM | Start project code according to tasks (All) | Discuss progress & changes if needed |\n",
    "| 5/30 | 5PM | Finish tasks (All) | Finalizing details before deadline |\n",
    "| 5/31 | Deadline Checkpoint |\n",
    "| 6/6 | 5PM | Complete analysis | Draft results/conclusion/discussion, split tasks |\n",
    "| 6/13 | 5PM | Study results  | Complete project |\n",
    "| 6/14 | Deadline Final Project |"
   ]
  },
  {
   "cell_type": "markdown",
   "metadata": {},
   "source": [
    "# Footnotes\n",
    "<a name=\"cat_ecosys\"></a>1.[^](#cat_ecosys): Crocodile Lake National Wildlife Refuge. (2015, March). Protect Wildlife: Keep Cats Indoors. U.S. Fish and Wildlife Service. https://www.fws.gov/sites/default/files/documents/keep-cats-indoors.pdf <br> \n",
    "<a name=\"petstats\"></a>2.[^](#petstats): Pet Statistics. ASPCA. (n.d.). https://www.aspca.org/helping-people-pets/shelter-intake-and-surrender/pet-statistics <br>\n",
    "<a name=\"dani\"></a>3.[^](#dani): Altshuler, D. (2019, January 26). Shelter Animal Predictions. GitHub. https://github.com/danielle-altshuler/shelter_animal_predictions <br>\n",
    "<a name=\"mohammad\"></a>3.[^](#mohammad): Qureshi, M. M. (2021, October 3). Mushahidq/animal_shelter_outcome_prediction: Animal Centre Shelter Outcome Prediction to help adoption of animals from animal shelters. GitHub. https://github.com/mushahidq/animal_shelter_outcome_prediction/tree/main "
   ]
  },
  {
   "cell_type": "code",
   "execution_count": null,
   "metadata": {},
   "outputs": [],
   "source": []
  }
 ],
 "metadata": {
  "kernelspec": {
   "display_name": "Python 3 (ipykernel)",
   "language": "python",
   "name": "python3"
  },
  "language_info": {
   "codemirror_mode": {
    "name": "ipython",
    "version": 3
   },
   "file_extension": ".py",
   "mimetype": "text/x-python",
   "name": "python",
   "nbconvert_exporter": "python",
   "pygments_lexer": "ipython3",
   "version": "3.9.16"
  }
 },
 "nbformat": 4,
 "nbformat_minor": 2
}
