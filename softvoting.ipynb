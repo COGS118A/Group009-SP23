{
 "cells": [
  {
   "cell_type": "markdown",
   "metadata": {},
   "source": [
    "## Soft Voting using Array of Accuracies\n",
    "\n",
    "This code demonstrates the implementation of soft voting in Python. Soft voting is a technique used in ensemble learning, where multiple models (classifiers) make predictions, and the final prediction is based on a weighted average of their individual predictions.\n",
    "\n",
    "The code consists of the following steps:\n",
    "\n",
    "1. Define the `soft_voting` function: The `soft_voting` function takes an array of accuracies as input. It calculates the weights for each accuracy by normalizing them, ensuring that they sum up to 1. This is done by dividing each accuracy by the sum of all accuracies.\n",
    "\n",
    "2. Generate random predictions: For demonstration purposes, the code generates random predictions for each classifier. We will replace this by the actual predictions.\n",
    "\n",
    "3. Perform soft voting: The soft voting step involves averaging the predictions from each classifier using the calculated weights. This is done using the `np.average` function, specifying the `axis=0` parameter to average the predictions across the columns (classes).\n",
    "\n",
    "4. Return the ensemble prediction: The function returns the index of the class with the highest probability based on the ensemble prediction. This is obtained using the `np.argmax` function.\n",
    "\n",
    "Please note that in this example, random predictions are generated to demonstrate the concept of soft voting. We will replaces `predictions` array with the actual predictions made by each classifier."
   ]
  },
  {
   "cell_type": "code",
   "execution_count": null,
   "metadata": {},
   "outputs": [],
   "source": [
    "import numpy as np\n",
    "\n",
    "def soft_voting(accuracies):\n",
    "    weights = accuracies / np.sum(accuracies)\n",
    "    predictions = np.random.randint(0, 2, size=(len(accuracies), 10))\n",
    "    ensemble_prediction = np.average(predictions, axis=0, weights=weights)\n",
    "    \n",
    "    return np.argmax(ensemble_prediction)"
   ]
  }
 ],
 "metadata": {
  "kernelspec": {
   "display_name": "Python 3 (ipykernel)",
   "language": "python",
   "name": "python3"
  },
  "language_info": {
   "codemirror_mode": {
    "name": "ipython",
    "version": 3
   },
   "file_extension": ".py",
   "mimetype": "text/x-python",
   "name": "python",
   "nbconvert_exporter": "python",
   "pygments_lexer": "ipython3",
   "version": "3.9.16"
  }
 },
 "nbformat": 4,
 "nbformat_minor": 2
}
