{
 "cells": [
  {
   "cell_type": "markdown",
   "metadata": {},
   "source": [
    "# COGS 118A - Project Checkpoint"
   ]
  },
  {
   "cell_type": "markdown",
   "metadata": {},
   "source": [
    "# Names\n",
    "\n",
    "Hopefully your team is at least this good. Obviously you should replace these with your names.\n",
    "\n",
    "- Veeraj Vishnu Sankar\n",
    "- Ezra Lu\n",
    "- Colin Kavanagh\n",
    "- Thais Marie Diane Archaud"
   ]
  },
  {
   "cell_type": "markdown",
   "metadata": {},
   "source": [
    "# Abstract \n",
    "\n",
    "\n",
    "This supervised machine learning project aims to predict good outcomes for cats in shelters using the Animal Shelter Intakes and Outcomes dataset from Long Beach. By good outcome, we mean cats being adopted or returned to their owners. The dataset includes information on primary colors, sex, intake conditions, intake types, reasons for intake, outcome types, outcome subtypes, and indicators for intake and outcome mortality. The data will be utilized to train a classification model that determines whether a cat is likely to have a good outcome while being in the shelter or not. Model performance will be evaluated through metrics such as ROC-AUC and F1 score, using cross-validation and testing on unseen data."
   ]
  },
  {
   "cell_type": "markdown",
   "metadata": {},
   "source": [
    "# Background\n",
    "\n",
    "Cats are not a natural part of the ecosystem as they have been introduced into the ecosystem by humans. Because of this, free-ranging cats can cause serious damage to the ecosystem. Cats are natural predators that have greatly contributed to the extinction of 33 wildlife species worldwide <a name=\"cat_ecosys\"></a>[<sup>[1]</sup>](#cat_ecosys), which is why it is the responsibility of humans to help keep cats off the streets in a humane way. Animal shelters play an important role in rescuing these homeless, free-ranging cats. Every year, around 6.5 million animals enter animal shelters nationwide. Due to lack of resources and funding, it is very challenging to find permanent homes for these cats. Because of this, of the 6.5 million shelter animals that are rescued, approximately 920,000 of them are euthanized with the majority of these euthanasias being performed on cats <a name=\"petstats\"></a>[<sup>[2]</sup>](#petstats). To prevent the further unnecessary deaths of cats, we will analyze what features make cats appealing to adopt in animal shelters in order to help animal shelters increase cat adoptions in the U.S.\n",
    "\n",
    "Although there is no prior work done on the animal shelter to suggest outcomes of specifically shelter cats, there have been classification models done to predict the outcome of shelter animals. We were able to find two people who have created models for animal shelter outcomes. Danielle’s work aimed to predict an animal’s outcome from the shelter based on their breed, color, sex, and age using random forests classifier to predict its outcome. Although her model had an f-1 score of 0.73, her model would incorrectly classify “adoption” as “return to owner” and would misclassify the outcomes of popular breeds as “transfer” or “death” when the true value was “euthanasia” <a name=\"dani\"></a>[<sup>[3]</sup>](#dani). In Mohammad’s work, it also aims to predict the outcomes of animals in animal shelters by using a decision tree classifier <a name=\"mohammad\"></a>[<sup>[4]</sup>](#mohammad). For our project, instead of predicting the outcomes of animals, we will predict the likelihood of a cat facing a good outcome based on their attributes."
   ]
  },
  {
   "cell_type": "markdown",
   "metadata": {},
   "source": [
    "# Problem Statement\n",
    "\n",
    "Shelters often face challenges in assessing the potential outcomes for animals, leading to overcrowding, limited resources, and the risk of euthanasia. By formulating the problem of determining the likelihood of positive outcomes for cats in shelters, we would like to quantifiably measure and improve the efficiency of shelter operations, and enhance the overall well-being and good outcome rates for cats in shelters. This would help animal shelters operate more successfully and efficiently overall by streamlining the adoption process and better allocating resources.\n",
    "\n",
    "We can develop a predictive model based on logistic regression that can help shelter personnel identify cats with a higher likelihood of facing a good outcome in a shelter by training it on historical data from animal shelter intakes and outcomes.\n",
    "\n",
    "This problem can be quantified because it entails foretelling a binary outcome (outcome likelihood) based on quantitative characteristics. Every input used, such as age, gender, breed, health condition, can be represented using a value or a category.\n",
    "\n",
    "This problem can be measured by different metrics : the adoption rate, which is a direct measure of the number of cats adopted over a certain period of time. The length of stay, the return-to-owner and euthanasia rate are also metrics which can be used to define it. These rates are clearly observable using data from shelters and can be used to enhance overall positive outcomes for cats.\n",
    "\n",
    "Because it can be duplicated and happens frequently in animal shelter settings, the issue is reproducible. Over time, new data can be gathered, allowing the model to be continually updated and trained to increase its prediction power."
   ]
  },
  {
   "cell_type": "markdown",
   "metadata": {},
   "source": [
    "# Data\n",
    "\n",
    "Animal Shelter Data — datalongbeach: [here](https://data.longbeach.gov/explore/dataset/animal-shelter-intakes-and-outcomes/table/?disjunctive.animal_type&disjunctive.primary_color&disjunctive.sex&disjunctive.intake_cond&disjunctive.intake_type&disjunctive.reason&disjunctive.outcome_type&disjunctive.outcome_subtype&disjunctive.intake_is_dead&disjunctive.outcome_is_dead&dataChart=eyJxdWVyaWVzIjpbeyJjaGFydHMiOlt7ImFsaWduTW9udGgiOnRydWUsInR5cGUiOiJjb2x1bW4iLCJmdW5jIjoiQ09VTlQiLCJ5QXhpcyI6ImFnZSIsInNjaWVudGlmaWNEaXNwbGF5Ijp0cnVlLCJjb2xvciI6InJhbmdlLWN1c3RvbSIsInBvc2l0aW9uIjoiY2VudGVyIn1dLCJ4QXhpcyI6ImludGFrZV9kYXRlIiwibWF4cG9pbnRzIjpudWxsLCJ0aW1lc2NhbGUiOiJtb250aCIsInNvcnQiOiIiLCJzZXJpZXNCcmVha2Rvd25UaW1lc2NhbGUiOiIiLCJzZXJpZXNCcmVha2Rvd24iOiJpbnRha2VfaXNfZGVhZCIsInN0YWNrZWQiOiJub3JtYWwiLCJjb25maWciOnsiZGF0YXNldCI6ImFuaW1hbC1zaGVsdGVyLWludGFrZXMtYW5kLW91dGNvbWVzIiwib3B0aW9ucyI6eyJkaXNqdW5jdGl2ZS5hbmltYWxfdHlwZSI6dHJ1ZSwiZGlzanVuY3RpdmUucHJpbWFyeV9jb2xvciI6dHJ1ZSwiZGlzanVuY3RpdmUuc2V4Ijp0cnVlLCJkaXNqdW5jdGl2ZS5pbnRha2VfY29uZCI6dHJ1ZSwiZGlzanVuY3RpdmUuaW50YWtlX3R5cGUiOnRydWUsImRpc2p1bmN0aXZlLnJlYXNvbiI6dHJ1ZSwiZGlzanVuY3RpdmUub3V0Y29tZV90eXBlIjp0cnVlLCJkaXNqdW5jdGl2ZS5vdXRjb21lX3N1YnR5cGUiOnRydWUsImRpc2p1bmN0aXZlLmludGFrZV9pc19kZWFkIjp0cnVlLCJkaXNqdW5jdGl2ZS5vdXRjb21lX2lzX2RlYWQiOnRydWV9fX1dLCJkaXNwbGF5TGVnZW5kIjp0cnVlLCJhbGlnbk1vbnRoIjp0cnVlLCJ0aW1lc2NhbGUiOiIifQ%3D%3D).\n",
    "\n",
    "For our project, we will be employing a subset of the City of Long Beach's Animal Shelter data. This dataset encompasses a broad array of animal types, including dogs, birds, and wild animals. However, our analysis will be limited to cats, which constitute approximately 50 percent of the total data. We've made this decision due to the sparseness of data points related to other animals in contrast to the number of variables. This disparity would make it challenging to generate accurate or substantial predictions for animal categories outside of \"Cats\".\n",
    "\n",
    "* link to CLEAN data: [here](https://github.com/COGS118A/Group009-SP23/blob/main/clean_data.csv).\n",
    "\n",
    "* Size of dataset: 16,985 observations, 215 “variables” (many variables were one hot encoded)\n",
    "\n",
    "* removed \"Animal Type\", \"Animal ID\", \"intake_is_dead\", \"outcome_is_dead\" columns\n",
    "\n",
    "* “days in shelter” was calculated by subtracting intake date from outtake date.\n",
    "\n",
    "* “date” rows were dropped due to irrelevancy. \n",
    "\n",
    "* list defining “good” outcomes was now define: ['ADOPTION', 'FOSTER', 'COMMUNITY CAT', 'FOSTER TO ADOPT', 'RESCUE', 'RETURN TO WILD HABITAT', 'HOMEFIRST', 'RETURN TO OWNER', 'SHELTER, NEUTER, RETURN', 'TRAP, NEUTER, RELEASE']\n",
    "\n",
    "* dropped “outcome” strings, now irrelevant\n",
    "\n",
    "* dropped “crossing” column (too complex for project)\n",
    "\n",
    "* One hot encoded categorical variables, changed from about 15 columns to 215. \n",
    "\n",
    "* Critical Variables: Age, Intake type, Outcome type and Reason for intake. "
   ]
  },
  {
   "cell_type": "markdown",
   "metadata": {},
   "source": [
    "# Proposed Solution\n",
    "\n",
    "The primary function of our model will be to use various features (such as primary color, sex, intake conditions, intake types, reasons for intake, outcome types, outcome subtypes, and indications for intake and outcome mortality) to predict a binary outcome: whether a cat is likely to have a good outcome (adoption, return to owner etc) or a bad outcome (euthanasia, transfer etc). The outcomes have various different categories, but can be simplified into a good or bad binary.\n",
    "\n",
    "As for a benchmark model, we will start with a simple logistic regression model given its interpretability and suitability for binary classification tasks. This model will provide a baseline against which we can compare the performance of more complex models. If other models do not significantly outperform the logistic regression model, its simplicity and interpretability might make it the preferred choice.\n",
    "\n",
    "To ensure the model's applicability, we'll preprocess the data by one-hot encoding categorical variables like age, intake type, outcome type, and reason for intake. This conversion of categorical data into a format that can be provided to machine learning algorithms will ensure our model can utilize all available information.\n",
    "\n",
    "The implementation of the solution will be done in Python, using libraries like pandas and numpy  for data manipulation, sklearn for machine learning algorithms, and matplotlib or seaborn for visualizations. Each step will be clearly documented in a Jupyter notebook or google colab.\n"
   ]
  },
  {
   "cell_type": "markdown",
   "metadata": {},
   "source": [
    "# Evaluation Metrics\n",
    "\n",
    "\n",
    "The primary evaluation metric we intend to use is the Receiver Operating Characteristic for Area Under the Curve (ROC-AUC, or AUC for short) metric. We decided to go with this metric because it works well with the algorithm that we have decided to use (logistic regression). AUC is appropriate for logit because it allows us to determine how well the model correctly predicts classes. While our project's issue is essential, it isn't as dire as other machine learning projects like cancer testing. Indicating that a cat won't get adopted when it actually will is a pleasant surprise instead of a life-or-death situation. Therefore, we have more leeway regarding classification levels and don't have to worry about the severity of picking something like a false negative over a false positive. ROC AUC compares the false classification rates at all classification thresholds, making it ideal for a model that isn't making high-stakes predictions. It also allows us to change the classification rate without significant concern for the consequences of false predictions. The ROC AUC curve compares the true positive rate (recall) to the false positive rate (1-specificity). We calculate these as follows:\n",
    "\n",
    "$$\\text{Recall} = \\frac{\\text{TP}}{\\text{TP + FN}}$$\n",
    "\n",
    "$$\\text{Specificity} = \\frac{\\text{TN}}{\\text{TN + FP}}$$\n",
    "\n",
    "\n",
    "The greater the area under the curve (AUC), the better the model distinguishes between the two classes. The best possible \"AOC\" would be a value of 1, indicating that the model can perfectly differentiate the two classes. The worst possible \"AOC\" we can have is 0.5, meaning that the model cannot distinguish the two classes and therefore predicts by chance. To plot this curve, we use different classification thresholds and find the TPR and FPR based on those thresholds. We then plot the TPR and FPR on the x and y axes. \n",
    "\n",
    "We also plan to use the F-score metric. The F-score is appropriate for this model because it is another way of indicating its performance concerning the bias-variance tradeoff. The F-score shows a weighted average of the precision and recall scores, giving us a metric that favors a balance between the two. The F-score will be lower if the precision or recall is higher than the other metric. We calculate precision using the following formula:\n",
    "\n",
    "$$\\text{Precision} = \\frac{\\text{TP}}{\\text{TP + FP}}$$\n",
    "\n",
    "The F score is calculated by using the following formula:\n",
    "\n",
    "$$\\text{F-score} = 2 \\times \\frac{\\text{Precision} \\times \\text{Recall}}{\\text{Precision + Recall}}$$"
   ]
  },
  {
   "cell_type": "markdown",
   "metadata": {},
   "source": [
    "# Preliminary results\n",
    "\n",
    "\n",
    "#### Suitability of the logistic regression for solving our problem \n",
    "\n",
    "We chose to use logistic regression as the first algorithm to solve our problem due to the binary outcome researched. We wanted the probability of a cat having a good outcome in a shelter and for our results to be interpretable, so logistic regression was the best fit.\n",
    "\n",
    "#### Performing feature selection from the raw data\n",
    "\n",
    "Like said in the data part of this checkpoint, we manually removed some columns we felt were incompatible with the problem at hand, and modified some of them. Here is the code for this selection :"
   ]
  },
  {
   "cell_type": "code",
   "execution_count": 1,
   "metadata": {},
   "outputs": [
    {
     "data": {
      "text/html": [
       "<div>\n",
       "<style scoped>\n",
       "    .dataframe tbody tr th:only-of-type {\n",
       "        vertical-align: middle;\n",
       "    }\n",
       "\n",
       "    .dataframe tbody tr th {\n",
       "        vertical-align: top;\n",
       "    }\n",
       "\n",
       "    .dataframe thead th {\n",
       "        text-align: right;\n",
       "    }\n",
       "</style>\n",
       "<table border=\"1\" class=\"dataframe\">\n",
       "  <thead>\n",
       "    <tr style=\"text-align: right;\">\n",
       "      <th></th>\n",
       "      <th>was_outcome_alive</th>\n",
       "      <th>days_in_shelter</th>\n",
       "      <th>age_at_intake</th>\n",
       "      <th>good_outcome</th>\n",
       "      <th>Primary Color_B-C PT</th>\n",
       "      <th>Primary Color_BC LYNX PT</th>\n",
       "      <th>Primary Color_BL LYNX PT</th>\n",
       "      <th>Primary Color_BLACK</th>\n",
       "      <th>Primary Color_BLK SMOKE</th>\n",
       "      <th>Primary Color_BLK TABBY</th>\n",
       "      <th>...</th>\n",
       "      <th>Jurisdiction_LA COUNTY</th>\n",
       "      <th>Jurisdiction_LONG BEACH</th>\n",
       "      <th>Jurisdiction_LOS ALAMITOS</th>\n",
       "      <th>Jurisdiction_ORANGE CNTY</th>\n",
       "      <th>Jurisdiction_OUT OF AREA</th>\n",
       "      <th>Jurisdiction_SEAACA</th>\n",
       "      <th>Jurisdiction_SEAL BEACH</th>\n",
       "      <th>Jurisdiction_SIGNAL HILL</th>\n",
       "      <th>Jurisdiction_TORRANCE AC</th>\n",
       "      <th>Jurisdiction_WESTMINSTER</th>\n",
       "    </tr>\n",
       "  </thead>\n",
       "  <tbody>\n",
       "    <tr>\n",
       "      <th>0</th>\n",
       "      <td>1</td>\n",
       "      <td>5</td>\n",
       "      <td>127.0</td>\n",
       "      <td>1</td>\n",
       "      <td>False</td>\n",
       "      <td>False</td>\n",
       "      <td>False</td>\n",
       "      <td>False</td>\n",
       "      <td>False</td>\n",
       "      <td>False</td>\n",
       "      <td>...</td>\n",
       "      <td>False</td>\n",
       "      <td>True</td>\n",
       "      <td>False</td>\n",
       "      <td>False</td>\n",
       "      <td>False</td>\n",
       "      <td>False</td>\n",
       "      <td>False</td>\n",
       "      <td>False</td>\n",
       "      <td>False</td>\n",
       "      <td>False</td>\n",
       "    </tr>\n",
       "    <tr>\n",
       "      <th>1</th>\n",
       "      <td>1</td>\n",
       "      <td>7</td>\n",
       "      <td>249.0</td>\n",
       "      <td>1</td>\n",
       "      <td>False</td>\n",
       "      <td>False</td>\n",
       "      <td>False</td>\n",
       "      <td>False</td>\n",
       "      <td>False</td>\n",
       "      <td>False</td>\n",
       "      <td>...</td>\n",
       "      <td>False</td>\n",
       "      <td>True</td>\n",
       "      <td>False</td>\n",
       "      <td>False</td>\n",
       "      <td>False</td>\n",
       "      <td>False</td>\n",
       "      <td>False</td>\n",
       "      <td>False</td>\n",
       "      <td>False</td>\n",
       "      <td>False</td>\n",
       "    </tr>\n",
       "    <tr>\n",
       "      <th>2</th>\n",
       "      <td>1</td>\n",
       "      <td>2</td>\n",
       "      <td>367.0</td>\n",
       "      <td>1</td>\n",
       "      <td>False</td>\n",
       "      <td>False</td>\n",
       "      <td>False</td>\n",
       "      <td>False</td>\n",
       "      <td>False</td>\n",
       "      <td>False</td>\n",
       "      <td>...</td>\n",
       "      <td>False</td>\n",
       "      <td>True</td>\n",
       "      <td>False</td>\n",
       "      <td>False</td>\n",
       "      <td>False</td>\n",
       "      <td>False</td>\n",
       "      <td>False</td>\n",
       "      <td>False</td>\n",
       "      <td>False</td>\n",
       "      <td>False</td>\n",
       "    </tr>\n",
       "    <tr>\n",
       "      <th>3</th>\n",
       "      <td>1</td>\n",
       "      <td>2</td>\n",
       "      <td>8.0</td>\n",
       "      <td>1</td>\n",
       "      <td>False</td>\n",
       "      <td>False</td>\n",
       "      <td>False</td>\n",
       "      <td>False</td>\n",
       "      <td>False</td>\n",
       "      <td>False</td>\n",
       "      <td>...</td>\n",
       "      <td>False</td>\n",
       "      <td>True</td>\n",
       "      <td>False</td>\n",
       "      <td>False</td>\n",
       "      <td>False</td>\n",
       "      <td>False</td>\n",
       "      <td>False</td>\n",
       "      <td>False</td>\n",
       "      <td>False</td>\n",
       "      <td>False</td>\n",
       "    </tr>\n",
       "    <tr>\n",
       "      <th>4</th>\n",
       "      <td>1</td>\n",
       "      <td>2</td>\n",
       "      <td>8.0</td>\n",
       "      <td>1</td>\n",
       "      <td>False</td>\n",
       "      <td>False</td>\n",
       "      <td>False</td>\n",
       "      <td>False</td>\n",
       "      <td>False</td>\n",
       "      <td>False</td>\n",
       "      <td>...</td>\n",
       "      <td>False</td>\n",
       "      <td>True</td>\n",
       "      <td>False</td>\n",
       "      <td>False</td>\n",
       "      <td>False</td>\n",
       "      <td>False</td>\n",
       "      <td>False</td>\n",
       "      <td>False</td>\n",
       "      <td>False</td>\n",
       "      <td>False</td>\n",
       "    </tr>\n",
       "    <tr>\n",
       "      <th>...</th>\n",
       "      <td>...</td>\n",
       "      <td>...</td>\n",
       "      <td>...</td>\n",
       "      <td>...</td>\n",
       "      <td>...</td>\n",
       "      <td>...</td>\n",
       "      <td>...</td>\n",
       "      <td>...</td>\n",
       "      <td>...</td>\n",
       "      <td>...</td>\n",
       "      <td>...</td>\n",
       "      <td>...</td>\n",
       "      <td>...</td>\n",
       "      <td>...</td>\n",
       "      <td>...</td>\n",
       "      <td>...</td>\n",
       "      <td>...</td>\n",
       "      <td>...</td>\n",
       "      <td>...</td>\n",
       "      <td>...</td>\n",
       "      <td>...</td>\n",
       "    </tr>\n",
       "    <tr>\n",
       "      <th>16980</th>\n",
       "      <td>1</td>\n",
       "      <td>4</td>\n",
       "      <td>33.0</td>\n",
       "      <td>1</td>\n",
       "      <td>False</td>\n",
       "      <td>False</td>\n",
       "      <td>False</td>\n",
       "      <td>True</td>\n",
       "      <td>False</td>\n",
       "      <td>False</td>\n",
       "      <td>...</td>\n",
       "      <td>False</td>\n",
       "      <td>False</td>\n",
       "      <td>False</td>\n",
       "      <td>False</td>\n",
       "      <td>False</td>\n",
       "      <td>False</td>\n",
       "      <td>False</td>\n",
       "      <td>False</td>\n",
       "      <td>False</td>\n",
       "      <td>False</td>\n",
       "    </tr>\n",
       "    <tr>\n",
       "      <th>16981</th>\n",
       "      <td>1</td>\n",
       "      <td>11</td>\n",
       "      <td>741.0</td>\n",
       "      <td>1</td>\n",
       "      <td>False</td>\n",
       "      <td>False</td>\n",
       "      <td>False</td>\n",
       "      <td>False</td>\n",
       "      <td>False</td>\n",
       "      <td>False</td>\n",
       "      <td>...</td>\n",
       "      <td>False</td>\n",
       "      <td>True</td>\n",
       "      <td>False</td>\n",
       "      <td>False</td>\n",
       "      <td>False</td>\n",
       "      <td>False</td>\n",
       "      <td>False</td>\n",
       "      <td>False</td>\n",
       "      <td>False</td>\n",
       "      <td>False</td>\n",
       "    </tr>\n",
       "    <tr>\n",
       "      <th>16982</th>\n",
       "      <td>1</td>\n",
       "      <td>2</td>\n",
       "      <td>1097.0</td>\n",
       "      <td>1</td>\n",
       "      <td>False</td>\n",
       "      <td>False</td>\n",
       "      <td>False</td>\n",
       "      <td>False</td>\n",
       "      <td>False</td>\n",
       "      <td>False</td>\n",
       "      <td>...</td>\n",
       "      <td>False</td>\n",
       "      <td>False</td>\n",
       "      <td>True</td>\n",
       "      <td>False</td>\n",
       "      <td>False</td>\n",
       "      <td>False</td>\n",
       "      <td>False</td>\n",
       "      <td>False</td>\n",
       "      <td>False</td>\n",
       "      <td>False</td>\n",
       "    </tr>\n",
       "    <tr>\n",
       "      <th>16983</th>\n",
       "      <td>1</td>\n",
       "      <td>4</td>\n",
       "      <td>65.0</td>\n",
       "      <td>1</td>\n",
       "      <td>False</td>\n",
       "      <td>False</td>\n",
       "      <td>False</td>\n",
       "      <td>False</td>\n",
       "      <td>False</td>\n",
       "      <td>False</td>\n",
       "      <td>...</td>\n",
       "      <td>False</td>\n",
       "      <td>True</td>\n",
       "      <td>False</td>\n",
       "      <td>False</td>\n",
       "      <td>False</td>\n",
       "      <td>False</td>\n",
       "      <td>False</td>\n",
       "      <td>False</td>\n",
       "      <td>False</td>\n",
       "      <td>False</td>\n",
       "    </tr>\n",
       "    <tr>\n",
       "      <th>16984</th>\n",
       "      <td>1</td>\n",
       "      <td>1</td>\n",
       "      <td>31.0</td>\n",
       "      <td>1</td>\n",
       "      <td>False</td>\n",
       "      <td>False</td>\n",
       "      <td>False</td>\n",
       "      <td>False</td>\n",
       "      <td>False</td>\n",
       "      <td>False</td>\n",
       "      <td>...</td>\n",
       "      <td>False</td>\n",
       "      <td>True</td>\n",
       "      <td>False</td>\n",
       "      <td>False</td>\n",
       "      <td>False</td>\n",
       "      <td>False</td>\n",
       "      <td>False</td>\n",
       "      <td>False</td>\n",
       "      <td>False</td>\n",
       "      <td>False</td>\n",
       "    </tr>\n",
       "  </tbody>\n",
       "</table>\n",
       "<p>16985 rows × 215 columns</p>\n",
       "</div>"
      ],
      "text/plain": [
       "       was_outcome_alive  days_in_shelter  age_at_intake  good_outcome   \n",
       "0                      1                5          127.0             1  \\\n",
       "1                      1                7          249.0             1   \n",
       "2                      1                2          367.0             1   \n",
       "3                      1                2            8.0             1   \n",
       "4                      1                2            8.0             1   \n",
       "...                  ...              ...            ...           ...   \n",
       "16980                  1                4           33.0             1   \n",
       "16981                  1               11          741.0             1   \n",
       "16982                  1                2         1097.0             1   \n",
       "16983                  1                4           65.0             1   \n",
       "16984                  1                1           31.0             1   \n",
       "\n",
       "       Primary Color_B-C PT  Primary Color_BC LYNX PT   \n",
       "0                     False                     False  \\\n",
       "1                     False                     False   \n",
       "2                     False                     False   \n",
       "3                     False                     False   \n",
       "4                     False                     False   \n",
       "...                     ...                       ...   \n",
       "16980                 False                     False   \n",
       "16981                 False                     False   \n",
       "16982                 False                     False   \n",
       "16983                 False                     False   \n",
       "16984                 False                     False   \n",
       "\n",
       "       Primary Color_BL LYNX PT  Primary Color_BLACK  Primary Color_BLK SMOKE   \n",
       "0                         False                False                    False  \\\n",
       "1                         False                False                    False   \n",
       "2                         False                False                    False   \n",
       "3                         False                False                    False   \n",
       "4                         False                False                    False   \n",
       "...                         ...                  ...                      ...   \n",
       "16980                     False                 True                    False   \n",
       "16981                     False                False                    False   \n",
       "16982                     False                False                    False   \n",
       "16983                     False                False                    False   \n",
       "16984                     False                False                    False   \n",
       "\n",
       "       Primary Color_BLK TABBY  ...  Jurisdiction_LA COUNTY   \n",
       "0                        False  ...                   False  \\\n",
       "1                        False  ...                   False   \n",
       "2                        False  ...                   False   \n",
       "3                        False  ...                   False   \n",
       "4                        False  ...                   False   \n",
       "...                        ...  ...                     ...   \n",
       "16980                    False  ...                   False   \n",
       "16981                    False  ...                   False   \n",
       "16982                    False  ...                   False   \n",
       "16983                    False  ...                   False   \n",
       "16984                    False  ...                   False   \n",
       "\n",
       "       Jurisdiction_LONG BEACH  Jurisdiction_LOS ALAMITOS   \n",
       "0                         True                      False  \\\n",
       "1                         True                      False   \n",
       "2                         True                      False   \n",
       "3                         True                      False   \n",
       "4                         True                      False   \n",
       "...                        ...                        ...   \n",
       "16980                    False                      False   \n",
       "16981                     True                      False   \n",
       "16982                    False                       True   \n",
       "16983                     True                      False   \n",
       "16984                     True                      False   \n",
       "\n",
       "       Jurisdiction_ORANGE CNTY  Jurisdiction_OUT OF AREA   \n",
       "0                         False                     False  \\\n",
       "1                         False                     False   \n",
       "2                         False                     False   \n",
       "3                         False                     False   \n",
       "4                         False                     False   \n",
       "...                         ...                       ...   \n",
       "16980                     False                     False   \n",
       "16981                     False                     False   \n",
       "16982                     False                     False   \n",
       "16983                     False                     False   \n",
       "16984                     False                     False   \n",
       "\n",
       "       Jurisdiction_SEAACA  Jurisdiction_SEAL BEACH  Jurisdiction_SIGNAL HILL   \n",
       "0                    False                    False                     False  \\\n",
       "1                    False                    False                     False   \n",
       "2                    False                    False                     False   \n",
       "3                    False                    False                     False   \n",
       "4                    False                    False                     False   \n",
       "...                    ...                      ...                       ...   \n",
       "16980                False                    False                     False   \n",
       "16981                False                    False                     False   \n",
       "16982                False                    False                     False   \n",
       "16983                False                    False                     False   \n",
       "16984                False                    False                     False   \n",
       "\n",
       "       Jurisdiction_TORRANCE AC  Jurisdiction_WESTMINSTER  \n",
       "0                         False                     False  \n",
       "1                         False                     False  \n",
       "2                         False                     False  \n",
       "3                         False                     False  \n",
       "4                         False                     False  \n",
       "...                         ...                       ...  \n",
       "16980                     False                     False  \n",
       "16981                     False                     False  \n",
       "16982                     False                     False  \n",
       "16983                     False                     False  \n",
       "16984                     False                     False  \n",
       "\n",
       "[16985 rows x 215 columns]"
      ]
     },
     "metadata": {},
     "output_type": "display_data"
    }
   ],
   "source": [
    "import pandas as pd\n",
    "\n",
    "#load data\n",
    "df = pd.read_csv('animal-shelter-intakes-and-outcomes.csv')\n",
    "#remove useless columns\n",
    "df = df.drop(columns=[\"Animal Type\", \"Animal ID\", \"intake_is_dead\", \"outcome_is_dead\"])\n",
    "#subtract intake date from outtake date to get days in shelter as well as age at intake (days)\n",
    "df = df.assign(Intake_Date_dt=pd.to_datetime(df['Intake Date'])) \n",
    "df = df.assign(Outcome_Date_dt=pd.to_datetime(df['Outcome Date']))\n",
    "df = df.assign(DOB_date=pd.to_datetime(df['DOB']))\n",
    "df['days_in_shelter'] = (df['Outcome_Date_dt'] - df['Intake_Date_dt']).dt.days\n",
    "df[\"age_at_intake\"] = (df[\"Outcome_Date_dt\"] - df[\"DOB_date\"]).dt.days\n",
    "#drop date rows, now irrelevant\n",
    "df = df.drop(columns=[\"Outcome_Date_dt\", \"Intake_Date_dt\", \"DOB\", 'Intake Date', 'Outcome Date', \"DOB_date\" ,\"Age\"])\n",
    "#create list defining \"good\" outcomes\n",
    "good_outcomes = ['ADOPTION', 'FOSTER', 'COMMUNITY CAT', 'FOSTER TO ADOPT', 'RESCUE', 'RETURN TO WILD HABITAT', 'HOMEFIRST', 'RETURN TO OWNER', 'SHELTER, NEUTER, RETURN', 'TRAP, NEUTER, RELEASE']\n",
    "#check if cat faced a good outcome, 1 if it did, 0 if it didn't\n",
    "df['good_outcome'] = df['Outcome Type'].isin(good_outcomes).astype(int)\n",
    "#drop outcome related strings (irrelevant)\n",
    "df = df.drop(columns=[\"Outcome Type\", \"Outcome Subtype\"])\n",
    "#drop \"crossing\" column (data is too difficult to interpret for span of project)\n",
    "df = df.drop(columns=[\"Crossing\"])\n",
    "#drop \"Animal Name\" column (irrelevant for analysis)\n",
    "df = df.drop(columns=[\"Animal Name\"])\n",
    "#one hot encode data\n",
    "df = pd.get_dummies(df, columns = ['Primary Color', 'Secondary Color', \"Sex\", \"Intake Condition\", \"Intake Type\", \"Intake Subtype\", \"Reason for Intake\", \"Jurisdiction\"])\n",
    "df\n",
    "\n",
    "#save data to csv in repo\n",
    "df.to_csv('clean_data.csv')\n",
    "display(df)"
   ]
  },
  {
   "cell_type": "markdown",
   "metadata": {},
   "source": [
    "#### Our implementation of our logistic regression model"
   ]
  },
  {
   "cell_type": "markdown",
   "metadata": {},
   "source": [
    "##### Main code"
   ]
  },
  {
   "cell_type": "code",
   "execution_count": 2,
   "metadata": {},
   "outputs": [],
   "source": [
    "import itertools\n",
    "import matplotlib.pyplot as plt\n",
    "from sklearn import metrics\n",
    "from sklearn.model_selection import train_test_split\n",
    "from sklearn.linear_model import LogisticRegression\n",
    "from sklearn.metrics import accuracy_score, classification_report, roc_auc_score, confusion_matrix\n",
    "\n",
    "url = 'https://raw.githubusercontent.com/COGS118A/Group009-SP23/main/clean_data.csv'\n",
    "data = pd.read_csv(url)\n",
    "data = data.dropna()\n",
    "# Define predictors and labels\n",
    "X = data.drop('good_outcome', axis=1)\n",
    "y = data['good_outcome']\n",
    "\n",
    "# Split the data into train and test sets\n",
    "X_train, X_test, y_train, y_test = train_test_split(X, y, test_size=0.3, random_state=42)\n",
    "\n",
    "# Define the model\n",
    "model = LogisticRegression(max_iter=1000)\n",
    "\n",
    "# Fit the model\n",
    "model.fit(X_train, y_train)\n",
    "\n",
    "# Make predictions\n",
    "y_pred = model.predict(X_test)"
   ]
  },
  {
   "cell_type": "markdown",
   "metadata": {},
   "source": [
    "#### Our results"
   ]
  },
  {
   "cell_type": "code",
   "execution_count": 3,
   "metadata": {
    "scrolled": true
   },
   "outputs": [
    {
     "name": "stdout",
     "output_type": "stream",
     "text": [
      "Model accuracy:  0.8443634891722324 \n",
      "\n",
      "Classification report:\n",
      "              precision    recall  f1-score   support\n",
      "\n",
      "           0       0.86      0.69      0.77      1828\n",
      "           1       0.84      0.93      0.88      3113\n",
      "\n",
      "    accuracy                           0.84      4941\n",
      "   macro avg       0.85      0.81      0.83      4941\n",
      "weighted avg       0.85      0.84      0.84      4941\n",
      "\n"
     ]
    }
   ],
   "source": [
    "# Evaluate the model\n",
    "print(\"Model accuracy: \", accuracy_score(y_test, y_pred, normalize=True), \"\\n\")\n",
    "print(\"Classification report:\")\n",
    "print(classification_report(y_test, y_pred))"
   ]
  },
  {
   "cell_type": "code",
   "execution_count": 6,
   "metadata": {
    "scrolled": true
   },
   "outputs": [
    {
     "data": {
      "text/plain": [
       "<Figure size 640x480 with 0 Axes>"
      ]
     },
     "metadata": {},
     "output_type": "display_data"
    },
    {
     "data": {
      "image/png": "[encoded data removed]",
      "text/plain": [
       "<Figure size 600x400 with 2 Axes>"
      ]
     },
     "metadata": {},
     "output_type": "display_data"
    },
    {
     "name": "stdout",
     "output_type": "stream",
     "text": [
      "Recall:  0.6969365426695843 \n",
      "\n",
      "Precision:  0.8780151619572708 \n",
      "\n",
      "F1-Score:  0.7770661787130223 \n",
      "\n",
      "Specificity:  0.9431416639897205 \n",
      "\n"
     ]
    }
   ],
   "source": [
    "# Confusion Matrix\n",
    "cm = confusion_matrix(y_test, y_pred)\n",
    "plt.figure()\n",
    "plt.figure(figsize=(6, 4))\n",
    "plt.imshow(cm, interpolation='nearest', cmap=plt.cm.Blues)\n",
    "plt.colorbar()\n",
    "\n",
    "thresh = cm.max() / 2.\n",
    "for i, j in itertools.product(range(cm.shape[0]), range(cm.shape[1])):\n",
    "    plt.text(j, i, format(cm[i, j], 'd'),\n",
    "             horizontalalignment=\"center\",\n",
    "             color=\"white\" if cm[i, j] > thresh else \"black\")\n",
    "\n",
    "plt.tight_layout()\n",
    "plt.xlabel('Predicted labels')\n",
    "plt.ylabel('True labels')\n",
    "plt.show()\n",
    "\n",
    "# Performance Metrics\n",
    "recall = 1274 / (1274 + 554)\n",
    "precision = 1274 / (1274 + 177)\n",
    "print(\"Recall: \", recall, '\\n')\n",
    "print(\"Precision: \", precision, '\\n')\n",
    "print(\"F1-Score: \", 2 * ((recall * precision) / (recall + precision)) , '\\n')\n",
    "print(\"Specificity: \", 2936 / (2936 + 177), '\\n')"
   ]
  },
  {
   "cell_type": "code",
   "execution_count": 5,
   "metadata": {
    "scrolled": true
   },
   "outputs": [
    {
     "data": {
      "image/png": "[encoded data removed]",
      "text/plain": [
       "<Figure size 640x480 with 1 Axes>"
      ]
     },
     "metadata": {},
     "output_type": "display_data"
    },
    {
     "name": "stdout",
     "output_type": "stream",
     "text": [
      "ROC-AUC Score:  0.9028758836558204\n"
     ]
    }
   ],
   "source": [
    "# ROC-AUC Curve\n",
    "y_pred_proba = model.predict_proba(X_test)[::,1]\n",
    "\n",
    "fpr, tpr, _ = metrics.roc_curve(y_test,  y_pred_proba)\n",
    "auc = metrics.roc_auc_score(y_test, y_pred_proba)\n",
    "plt.plot(fpr,tpr,label=\"data 1, auc=\"+str(auc))\n",
    "plt.legend(loc=4)\n",
    "plt.show()\n",
    "print(\"ROC-AUC Score: \", roc_auc_score(y_test, y_pred_proba, average=None))"
   ]
  },
  {
   "cell_type": "markdown",
   "metadata": {},
   "source": [
    "Our Logistic Regression model performed well with it performing with an accuracy of 85% on our test data. Our model also has an ROC-AUC score of 0.9, which means it performs extremely well and is highly accurate. When looking at other evaluation metrics, we see that our model has a recall score of 70%, precision score of 88%, specificity score of 94%, and a f1-score of 78%.\n",
    "\n",
    "* Accuracy: 85% on the test data. The model is correctly predicting the outcome for a significant portion of the cats in the shelter.\n",
    "\n",
    "* ROC-AUC Score: score of 0.9. The model has a strong ability to distinguish between positive and negative outcomes for cats in the shelter.\n",
    "\n",
    "* Recall Score: 70%. It has a moderate ability to correctly detect positive cases.\n",
    "\n",
    "* Precision Score: The precision score measures the proportion of correctly predicted positive cases out of all positive predictions made by the model. With a precision score of 88%, your model demonstrates a high level of accuracy in predicting positive outcomes. It correctly classifies 88% of the cats that it predicts will have a good outcome.\n",
    "\n",
    "* Specificity Score: It correctly classifies 94% of the cats that it predicts will not have a good outcome.\n",
    "\n",
    "* F1-Score: With an F1-score of 78%, our model demonstrates a balanced performance between precision and recall.\n",
    "\n",
    "Overall, our model exhibits high accuracy, strong discrimination ability, and relatively good performance in correctly identifying positive cases. However, we though of different ways to get a better accuracy."
   ]
  },
  {
   "cell_type": "markdown",
   "metadata": {},
   "source": [
    "#### More models to explore\n",
    "\n",
    "##### Soft voting\n",
    "\n",
    "Since our Logic Regression model performed pretty well individually, with accuracies such as 0.845 and 0.844, we decided to employ soft voting. Our assumption is that the soft voting ensemble will, on average, produce greater predictive performance than any solo model employed in the ensemble by combining the anticipated class membership probability scores predicted by each various Logic Regression model.\n",
    "The accuracy improved slightly to 0.846, accompanied by a standard deviation of 0.008.\n",
    "\n",
    "Here is our code and results."
   ]
  },
  {
   "cell_type": "code",
   "execution_count": 7,
   "metadata": {},
   "outputs": [],
   "source": [
    "import pandas as pd\n",
    "from sklearn.model_selection import train_test_split, RepeatedStratifiedKFold, cross_val_score\n",
    "from sklearn.linear_model import LogisticRegression\n",
    "from sklearn.metrics import accuracy_score, classification_report, roc_auc_score, confusion_matrix\n",
    "from sklearn.ensemble import VotingClassifier\n",
    "import matplotlib.pyplot as plt\n",
    "from numpy import mean, std\n",
    "from matplotlib import pyplot\n",
    "from sklearn.ensemble import RandomForestClassifier\n",
    "\n",
    "def get_data():\n",
    "    url = 'https://raw.githubusercontent.com/COGS118A/Group009-SP23/main/clean_data.csv'\n",
    "    data = pd.read_csv(url)\n",
    "    data = data.dropna()\n",
    "    print(data.shape)\n",
    "    return data\n",
    "\n",
    "def get_dataset(data):\n",
    "    X = data.drop('good_outcome', axis=1)\n",
    "    y = data['good_outcome']\n",
    "    X_train, X_test, y_train, y_test = train_test_split(X, y, test_size=0.3, random_state=42)\n",
    "    return X, y, X_train, X_test, y_train, y_test\n",
    "\n",
    "def get_models(X_train, X_test, y_train, y_test):\n",
    "    models = {}\n",
    "\n",
    "    for i in range(5):\n",
    "        model_name = f'Logistic Regression {i+1}'  # Generate a unique model name\n",
    "\n",
    "        model = LogisticRegression(max_iter=(i+1)*1000, C=(i+1)*0.1)\n",
    "\n",
    "        model.fit(X_train, y_train)\n",
    "\n",
    "        y_pred = model.predict(X_test)\n",
    "\n",
    "        models[model_name] = {\n",
    "            'model': model,\n",
    "            'predictions': y_pred\n",
    "        }\n",
    "    return models\n",
    "\n",
    "def get_SV(models, X_train, X_test, y_train, y_test):\n",
    "    individual_models = []\n",
    "\n",
    "    for model_name, model_info in models.items():\n",
    "        individual_models.append((model_name, model_info['model']))\n",
    "\n",
    "    voting_classifier = VotingClassifier(estimators=individual_models, voting='soft')\n",
    "    voting_classifier.fit(X_train, y_train)\n",
    "\n",
    "    y_pred_voting = voting_classifier.predict(X_test)\n",
    "\n",
    "    models['Soft Voting'] = {\n",
    "        'model': voting_classifier,\n",
    "        'predictions': y_pred_voting\n",
    "    }\n",
    "    return models\n",
    "\n",
    "def get_accuracy(model, X, y): #cross valid\n",
    "    cv = RepeatedStratifiedKFold(n_splits=10, n_repeats=3, random_state=1)\n",
    "    scores = cross_val_score(model, X, y, scoring='accuracy', cv=cv, n_jobs=-1, error_score='raise')\n",
    "    return scores"
   ]
  },
  {
   "cell_type": "code",
   "execution_count": 8,
   "metadata": {},
   "outputs": [
    {
     "name": "stdout",
     "output_type": "stream",
     "text": [
      "(16467, 216)\n",
      ">Logistic Regression 1 0.845 (0.008)\n",
      ">Logistic Regression 2 0.845 (0.008)\n",
      ">Logistic Regression 3 0.845 (0.008)\n",
      ">Logistic Regression 4 0.844 (0.009)\n",
      ">Logistic Regression 5 0.844 (0.009)\n",
      ">Soft Voting 0.846 (0.008)\n"
     ]
    }
   ],
   "source": [
    "X, y, X_train, X_test, y_train, y_test = get_dataset(get_data())\n",
    "\n",
    "models = get_models(X_train, X_test, y_train, y_test)\n",
    "models = get_SV(models, X_train, X_test, y_train, y_test)\n",
    "\n",
    "results, names = list(), list()\n",
    "\n",
    "for name, model_info in models.items():\n",
    "    model = model_info['model']\n",
    "    scores = get_accuracy(model, X, y)\n",
    "    results.append(scores)\n",
    "    names.append(name)\n",
    "    print('>%s %.3f (%.3f)' % (name, mean(scores), std(scores)))"
   ]
  },
  {
   "cell_type": "markdown",
   "metadata": {},
   "source": [
    "###### Results"
   ]
  },
  {
   "cell_type": "code",
   "execution_count": 9,
   "metadata": {},
   "outputs": [
    {
     "data": {
      "image/png": "[encoded data removed]",
      "text/plain": [
       "<Figure size 640x480 with 1 Axes>"
      ]
     },
     "metadata": {},
     "output_type": "display_data"
    },
    {
     "data": {
      "text/plain": [
       "<Figure size 640x480 with 0 Axes>"
      ]
     },
     "metadata": {},
     "output_type": "display_data"
    },
    {
     "data": {
      "image/png": "[encoded data removed]",
      "text/plain": [
       "<Figure size 600x400 with 2 Axes>"
      ]
     },
     "metadata": {},
     "output_type": "display_data"
    },
    {
     "name": "stdout",
     "output_type": "stream",
     "text": [
      "Recall 0.687636761487965 \n",
      "\n",
      "Precision 0.8717059639389736 \n",
      "\n",
      "F1-Score 0.7688073394495414 \n",
      "\n",
      "Specificity 0.9405717956954706 \n",
      "\n"
     ]
    }
   ],
   "source": [
    "# plot model performance for comparison\n",
    "plt.boxplot(results, labels=[1, 2, 3, 4, 5, \"Soft Voting\"], showmeans=True)\n",
    "plt.title('Box Plot of Soft Voting Ensemble Compared to Standalone Models (LR)')\n",
    "plt.xlabel('Model')\n",
    "plt.ylabel('Accuracy')\n",
    "plt.savefig('model_performance_LR.jpg')\n",
    "plt.show()\n",
    "\n",
    "import itertools\n",
    "\n",
    "cm_logit = confusion_matrix(y_test, models['Soft Voting']['predictions'])\n",
    "\n",
    "plt.figure()\n",
    "plt.figure(figsize=(6, 4))\n",
    "plt.imshow(cm_logit, interpolation='nearest', cmap=plt.cm.Blues)\n",
    "plt.colorbar()\n",
    "\n",
    "thresh = cm_logit.max() / 2.\n",
    "for i, j in itertools.product(range(cm_logit.shape[0]), range(cm_logit.shape[1])):\n",
    "    plt.text(j, i, format(cm_logit[i, j], 'd'),\n",
    "             horizontalalignment=\"center\",\n",
    "             color=\"white\" if cm_logit[i, j] > thresh else \"black\")\n",
    "\n",
    "plt.tight_layout()\n",
    "plt.xlabel('Predicted labels')\n",
    "plt.ylabel('True labels')\n",
    "plt.savefig('matrix_LR.jpg')\n",
    "plt.show()\n",
    "\n",
    "# Evaluation Metrics\n",
    "recall = 1257 / (1257 + 571)\n",
    "precision = 1257 / (1257 + 185)\n",
    "print('Recall', recall, '\\n')\n",
    "print('Precision', precision, '\\n')\n",
    "print('F1-Score', 2 * ((recall * precision) / (precision + recall)), '\\n')\n",
    "print('Specificity', 2928 / (2928 + 185), '\\n')"
   ]
  },
  {
   "cell_type": "markdown",
   "metadata": {},
   "source": [
    "Even though soft voting increased the accuracy slightly, we do not get a huge difference. We can see that the box plots overlap a lot, so soft voting is not a huge improvement. Here are some suggestions of things  we could do to optimize it more. We could optimize hyperparameters, with techniques like grid search or random search to find the best hyperparameter values."
   ]
  },
  {
   "cell_type": "markdown",
   "metadata": {},
   "source": [
    "##### Random forest\n",
    "\n",
    "As we've learned in this class, Random Forest performs better with more categorical data than Logistic Regression. We wanted to compare our idea of using logistic regression to random forest, and adding soft voting to it as well."
   ]
  },
  {
   "cell_type": "code",
   "execution_count": 11,
   "metadata": {},
   "outputs": [],
   "source": [
    "def get_dataset(data):\n",
    "    X = data.drop('good_outcome', axis=1)\n",
    "    y = data['good_outcome']\n",
    "    X_train, X_test, y_train, y_test = train_test_split(X, y, test_size=0.3, random_state=42)\n",
    "    return X, y, X_train, X_test, y_train, y_test\n",
    "\n",
    "def get_models(X_train, X_test, y_train, y_test):\n",
    "    models = []\n",
    "    for i in range(10):\n",
    "        model_name = f' {i+1}'  # Generate a unique model name\n",
    "        model = RandomForestClassifier(n_estimators=100, max_depth=(i+1)*10)\n",
    "        model.fit(X_train, y_train)\n",
    "        models.append((model_name, model))\n",
    "    return models\n",
    "\n",
    "def get_accuracy(model, X, y):\n",
    "    y_pred = model.predict(X)\n",
    "    return accuracy_score(y, y_pred)\n",
    "\n",
    "def plot_barplot(results, names):\n",
    "    plt.bar(names, results)\n",
    "    plt.ylim(0.84, 0.9)  # Set the y-axis limits\n",
    "    plt.title('Mean Accuracy Scores of Models (Random Forest)')\n",
    "    plt.xlabel('Model')\n",
    "    plt.ylabel('Accuracy')\n",
    "    plt.savefig('model_performance_RandomForest.jpg')\n",
    "    plt.show()"
   ]
  },
  {
   "cell_type": "code",
   "execution_count": 12,
   "metadata": {},
   "outputs": [
    {
     "name": "stdout",
     "output_type": "stream",
     "text": [
      "(16467, 216)\n",
      "> 1 Mean: 0.848\n",
      "> 2 Mean: 0.877\n",
      "> 3 Mean: 0.886\n",
      "> 4 Mean: 0.884\n",
      "> 5 Mean: 0.884\n",
      "> 6 Mean: 0.885\n",
      "> 7 Mean: 0.882\n",
      "> 8 Mean: 0.883\n",
      "> 9 Mean: 0.885\n",
      "> 10 Mean: 0.885\n",
      ">Soft Voting Mean: 0.887\n"
     ]
    },
    {
     "data": {
      "image/png": "[encoded data removed]",
      "text/plain": [
       "<Figure size 640x480 with 1 Axes>"
      ]
     },
     "metadata": {},
     "output_type": "display_data"
    }
   ],
   "source": [
    "X, y, X_train, X_test, y_train, y_test = get_dataset(get_data())\n",
    "\n",
    "modelsRF = get_models(X_train, X_test, y_train, y_test)\n",
    "voting_classifier = VotingClassifier(estimators=modelsRF, voting='soft', n_jobs=-1)\n",
    "voting_classifier.fit(X_train, y_train)\n",
    "\n",
    "modelsRF.append(('Soft Voting', voting_classifier))\n",
    "\n",
    "results, names = [], []\n",
    "\n",
    "for name, model in modelsRF:\n",
    "    scores = []\n",
    "    for _ in range(5):  # Repeat the accuracy calculation 5 times\n",
    "        score = get_accuracy(model, X_test, y_test)\n",
    "        scores.append(score)\n",
    "    results.append(mean(scores))\n",
    "    names.append(name)\n",
    "    print('>%s Mean: %.3f' % (name, mean(scores)))\n",
    "\n",
    "plot_barplot(results, names)"
   ]
  },
  {
   "cell_type": "code",
   "execution_count": 13,
   "metadata": {},
   "outputs": [
    {
     "data": {
      "text/plain": [
       "<Figure size 640x480 with 0 Axes>"
      ]
     },
     "metadata": {},
     "output_type": "display_data"
    },
    {
     "data": {
      "image/png": "[encoded data removed]",
      "text/plain": [
       "<Figure size 600x400 with 2 Axes>"
      ]
     },
     "metadata": {},
     "output_type": "display_data"
    },
    {
     "name": "stdout",
     "output_type": "stream",
     "text": [
      "Recall 0.7603938730853391 \n",
      "\n",
      "Precision 0.9211398277004639 \n",
      "\n",
      "F1-Score 0.8330836080311657 \n",
      "\n",
      "Specificity 0.9405717956954706 \n",
      "\n"
     ]
    }
   ],
   "source": [
    "cm_svm = confusion_matrix(y_test, voting_classifier.predict(X_test))\n",
    "\n",
    "plt.figure()\n",
    "plt.figure(figsize=(6, 4))\n",
    "plt.imshow(cm_svm, interpolation='nearest', cmap=plt.cm.Blues)\n",
    "plt.colorbar()\n",
    "\n",
    "thresh = cm_svm.max() / 2.\n",
    "for i, j in itertools.product(range(cm_svm.shape[0]), range(cm_svm.shape[1])):\n",
    "    plt.text(j, i, format(cm_svm[i, j], 'd'),\n",
    "             horizontalalignment=\"center\",\n",
    "             color=\"white\" if cm_svm[i, j] > thresh else \"black\")\n",
    "\n",
    "plt.tight_layout()\n",
    "plt.xlabel('Predicted labels')\n",
    "plt.ylabel('True labels')\n",
    "plt.savefig('matrix_RF.jpg')\n",
    "plt.show()\n",
    "\n",
    "# Evaluation Metrics\n",
    "recall = 1390 / (1390 + 438)\n",
    "precision = 1390 / (1390 + 119)\n",
    "print('Recall', recall, '\\n')\n",
    "print('Precision', precision, '\\n')\n",
    "print('F1-Score', 2 * ((recall * precision) / (precision + recall)), '\\n')\n",
    "print('Specificity', 2928 / (2928 + 185), '\\n')"
   ]
  },
  {
   "cell_type": "markdown",
   "metadata": {},
   "source": [
    "The Random Forest model shows a reasonable performance in predicting the outcome of cats in the shelter. It achieves a relatively high precision score, suggesting accurate positive predictions. The recall score indicates that it identifies a significant portion of the cats that will have a good outcome, although there is room for improvement. The F1-score demonstrates a balanced performance between precision and recall. Furthermore, the specificity score indicates that the model is effective at predicting negative outcomes. \n",
    "\n",
    "Soft Voting does not improve the results significally "
   ]
  },
  {
   "cell_type": "code",
   "execution_count": null,
   "metadata": {},
   "outputs": [],
   "source": []
  },
  {
   "cell_type": "markdown",
   "metadata": {},
   "source": [
    "# Ethics & Privacy"
   ]
  },
  {
   "cell_type": "markdown",
   "metadata": {},
   "source": [
    "There should not be many obvious ethical implications since the data collected is not on human subjects. However, there is an issue of privacy with the data as the Long Beach animal shelter has a record of where the cats were taken from. This may be a privacy issue because the addresses of owners who have chosen to surrender their cat are published in the dataset and it is unknown to us if this data was collected with the owners’ permission. This is especially a concern if the cat was taken due to mistreatment and/or abuse as animal abusers can possibly be tracked down and harassed with this data. However, we do not plan on using any locational data in our model so it should not be an issue. \n",
    "\n",
    "Another concern that could possibly arise is due to data bias. Since our model was trained on data from animal shelters in the City of Long Beach, we cannot state that our model will be accurate in different areas of the country. Different areas may look for different qualities in pets. Therefore, shelters that are not represented in our dataset should be advised that this model may not accurately predict the outcomes of cats in their area. \n",
    "\n",
    "There is also the possibility of our model being used to evaluate whether or not a cat is worth taking care of or should be taken for euthanasia. Since animal shelters are always lacking in resources, they will often be making the choice of which animals are to be euthanized. This possibility may be unlikely (but definitely possible) since most animal shelters are non-profit, which means there would be no real motivation to neglect animals based on how likely it is for them to be adopted. Our model also only predicts the likelihood of a positive outcome occurring, not necessarily adoption."
   ]
  },
  {
   "cell_type": "markdown",
   "metadata": {},
   "source": [
    "# Team Expectations "
   ]
  },
  {
   "cell_type": "markdown",
   "metadata": {},
   "source": [
    "\n",
    "* Team members will use Discord as a primary means of communication.\n",
    "* Team members are aware of each other’s schedules through a when2meet form.\n",
    "* Team members are expected to be punctual to meetings and communicate their absences if unforeseen situations arise.\n",
    "* Team Members are expected to read and follow the prescribed deadlines in the Project Timeline Proposal.\n",
    "* Team Members should feel comfortable sharing their issues and expectations of other members.\n"
   ]
  },
  {
   "cell_type": "markdown",
   "metadata": {},
   "source": [
    "# Project Timeline Proposal"
   ]
  },
  {
   "cell_type": "markdown",
   "metadata": {},
   "source": [
    "\n",
    "\n",
    "| __Date__    | __Time__ | __Completed before meeting__    | __Discuss at meeting__ |\n",
    "| -------- | ------- |------- |------- |\n",
    "| 5/15 | 8PM | Finding ideas, datasets for the project (All) | Which subject we’re going with, dividing the tasks for the proposal,  draft project proposal |\n",
    "| 5/16 | 5PM | Divide up tasks for Project proposal and complete parts separately | Review/Edit/Talk about our parts and what we need to each change |\n",
    "| 5/17 | Deadline Project Proposal |\n",
    "| 5/19 | 3PM | Import & Wrangle Data (Colin) | Discuss Analysis Plan, split tasks |\n",
    "| 5/23 | 5PM | Start project code according to tasks (All) | Discuss progress & changes if needed |\n",
    "| 5/30 | 5PM | Finish tasks (All) | Finalizing details before deadline |\n",
    "| 5/31 | Deadline Checkpoint |\n",
    "| 6/6 | 5PM | Complete analysis | Draft results/conclusion/discussion, split tasks |\n",
    "| 6/13 | 5PM | Study results  | Complete project |\n",
    "| 6/14 | Deadline Final Project |"
   ]
  },
  {
   "cell_type": "markdown",
   "metadata": {},
   "source": [
    "# Footnotes\n",
    "<a name=\"cat_ecosys\"></a>1.[^](#cat_ecosys): Crocodile Lake National Wildlife Refuge. (2015, March). Protect Wildlife: Keep Cats Indoors. U.S. Fish and Wildlife Service. https://www.fws.gov/sites/default/files/documents/keep-cats-indoors.pdf <br> \n",
    "<a name=\"petstats\"></a>2.[^](#petstats): Pet Statistics. ASPCA. (n.d.). https://www.aspca.org/helping-people-pets/shelter-intake-and-surrender/pet-statistics <br>\n",
    "<a name=\"dani\"></a>3.[^](#dani): Altshuler, D. (2019, January 26). Shelter Animal Predictions. GitHub. https://github.com/danielle-altshuler/shelter_animal_predictions <br>\n",
    "<a name=\"mohammad\"></a>3.[^](#mohammad): Qureshi, M. M. (2021, October 3). Mushahidq/animal_shelter_outcome_prediction: Animal Centre Shelter Outcome Prediction to help adoption of animals from animal shelters. GitHub. https://github.com/mushahidq/animal_shelter_outcome_prediction/tree/main "
   ]
  },
  {
   "cell_type": "code",
   "execution_count": null,
   "metadata": {},
   "outputs": [],
   "source": []
  }
 ],
 "metadata": {
  "kernelspec": {
   "display_name": "Python 3 (ipykernel)",
   "language": "python",
   "name": "python3"
  },
  "language_info": {
   "codemirror_mode": {
    "name": "ipython",
    "version": 3
   },
   "file_extension": ".py",
   "mimetype": "text/x-python",
   "name": "python",
   "nbconvert_exporter": "python",
   "pygments_lexer": "ipython3",
   "version": "3.9.16"
  }
 },
 "nbformat": 4,
 "nbformat_minor": 2
}
